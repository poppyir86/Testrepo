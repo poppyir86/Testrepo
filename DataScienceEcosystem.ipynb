{
 "cells": [
  {
   "cell_type": "markdown",
   "id": "6b8a0d49-2e09-4fd3-8213-69ad1ae7252e",
   "metadata": {},
   "source": [
    "# Data Science Tools and Ecosystem"
   ]
  },
  {
   "cell_type": "markdown",
   "id": "da956af2-167c-49cf-8905-ce18d1052a33",
   "metadata": {},
   "source": [
    "<br> In this notebook, Data Science Tools and Ecosystem are summarized."
   ]
  },
  {
   "cell_type": "markdown",
   "id": "4f105e3f-3fdf-4dd5-82b6-6a0cf1700419",
   "metadata": {},
   "source": [
    "1. R\n",
    "2. Python\n",
    "3. SQL"
   ]
  },
  {
   "cell_type": "markdown",
   "id": "f67b26a5-1267-4966-a34f-b8df7c1bbdd8",
   "metadata": {},
   "source": [
    "<br>Some of the commonly used libraries used by Data Scientists include:"
   ]
  },
  {
   "cell_type": "markdown",
   "id": "c0ca2436-5eb4-43c6-914a-3afe7d451a1b",
   "metadata": {},
   "source": [
    "1. NumPy\n",
    "2. Pandas\n",
    "3. Jupyter Notebook"
   ]
  },
  {
   "cell_type": "markdown",
   "id": "f272b385-23b6-4916-b4cb-143906c78a35",
   "metadata": {},
   "source": [
    "|Data Science Tools|\n",
    "|------------------|\n",
    "|Apache Spark|\n",
    "|RStudio|\n",
    "|Keras|\n",
    " "
   ]
  },
  {
   "cell_type": "markdown",
   "id": "1052704a-3abe-441d-9867-64045d22ee02",
   "metadata": {},
   "source": [
    "### Below are a few examples of evaluating arithmetic expressions in Python"
   ]
  },
  {
   "cell_type": "markdown",
   "id": "7ce240a0-83a5-456c-b2d1-488eb88eb606",
   "metadata": {},
   "source": [
    "<br> This is a simple arithmetic expression to mutiply then add integers:"
   ]
  },
  {
   "cell_type": "code",
   "execution_count": 14,
   "id": "5e8fa131-6851-46fc-9925-9f3ca5038e89",
   "metadata": {},
   "outputs": [
    {
     "data": {
      "text/plain": [
       "17"
      ]
     },
     "execution_count": 14,
     "metadata": {},
     "output_type": "execute_result"
    }
   ],
   "source": [
    "(3*4)+5"
   ]
  },
  {
   "cell_type": "markdown",
   "id": "83c982a5-fd49-4521-8e81-5206420aa96d",
   "metadata": {},
   "source": [
    "<br> This will convert 200 minutes to hours by diving by 60"
   ]
  },
  {
   "cell_type": "code",
   "execution_count": 90,
   "id": "889405bf-e91a-4a6b-9d71-b205fe64a983",
   "metadata": {},
   "outputs": [
    {
     "name": "stdout",
     "output_type": "stream",
     "text": [
      "200 minutes is equal to 3.3333333333333335 hours\n"
     ]
    }
   ],
   "source": [
    "def minutes_to_hours(minutes):\n",
    "    hours = minutes / 60\n",
    "    return hours\n",
    "\n",
    "minutes = 200\n",
    "hours = minutes_to_hours(minutes)\n",
    "\n",
    "print(f\"{minutes} minutes is equal to {hours} hours\")"
   ]
  },
  {
   "cell_type": "markdown",
   "id": "fa1c1167-6828-4b9e-a55f-a447380127af",
   "metadata": {},
   "source": [
    "__Objectives:__"
   ]
  },
  {
   "cell_type": "markdown",
   "id": "a090df9a-4fe6-4083-9fb2-427672562d4c",
   "metadata": {},
   "source": [
    ". List popular languages for Data Science\n",
    ". Create a markdown cell with a table of Data Science tools\n",
    ". Create a markdown cell introducing arithmetic expression examples"
   ]
  },
  {
   "cell_type": "markdown",
   "id": "490f55ee-3739-42cf-a159-d07bb8fd3ae3",
   "metadata": {},
   "source": [
    "## Author"
   ]
  },
  {
   "cell_type": "markdown",
   "id": "41eec90f-fcce-4af9-a56c-2602c551463b",
   "metadata": {},
   "source": [
    "<br> Sara Karimi"
   ]
  },
  {
   "cell_type": "code",
   "execution_count": null,
   "id": "6c7c3b15-f2e5-4c97-892e-a1e2062564dd",
   "metadata": {},
   "outputs": [],
   "source": []
  }
 ],
 "metadata": {
  "kernelspec": {
   "display_name": "Python 3 (ipykernel)",
   "language": "python",
   "name": "python3"
  },
  "language_info": {
   "codemirror_mode": {
    "name": "ipython",
    "version": 3
   },
   "file_extension": ".py",
   "mimetype": "text/x-python",
   "name": "python",
   "nbconvert_exporter": "python",
   "pygments_lexer": "ipython3",
   "version": "3.12.7"
  }
 },
 "nbformat": 4,
 "nbformat_minor": 5
}
